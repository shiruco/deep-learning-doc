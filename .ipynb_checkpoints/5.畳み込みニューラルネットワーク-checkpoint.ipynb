{
 "cells": [
  {
   "cell_type": "markdown",
   "metadata": {},
   "source": [
    "### 畳み込みニューラルネットワーク\n",
    "CNN (Convolutional Neural Network) と呼ばれる。  \n",
    "\n",
    "レイヤを以下のように変更する  \n",
    "\n",
    "Affine - ReLU  \n",
    "↓  \n",
    "Convolution - ReLU - Pooling  \n",
    "\n",
    "#### 畳み込み層\n",
    "全結合層では問題があった。  \n",
    "例えば画像(28x28)を認識させたい場合、784個のデータを入力値としてAffineレイヤに渡す必要がある。  \n",
    "一方畳み込み層(Convolutionレイヤ)はデータの形状を保持する。  \n",
    "畳み込み層の入出力データを **特徴マップ(feature map)** という。  \n",
    "さらに入力データを **入力特徴マップ** 、出力データを **出力特徴マップ** と呼ぶ。  \n",
    "\n",
    "#### 畳み込み演算\n",
    "参考\n",
    "https://qiita.com/nvtomo1029/items/601af18f82d8ffab551e\n",
    "\n"
   ]
  }
 ],
 "metadata": {
  "kernelspec": {
   "display_name": "Python 2",
   "language": "python",
   "name": "python2"
  },
  "language_info": {
   "codemirror_mode": {
    "name": "ipython",
    "version": 2
   },
   "file_extension": ".py",
   "mimetype": "text/x-python",
   "name": "python",
   "nbconvert_exporter": "python",
   "pygments_lexer": "ipython2",
   "version": "2.7.13"
  }
 },
 "nbformat": 4,
 "nbformat_minor": 2
}
