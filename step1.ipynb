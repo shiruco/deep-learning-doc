{
 "cells": [
  {
   "cell_type": "markdown",
   "metadata": {},
   "source": [
    "## 1.パーセプトロン\n",
    "\n",
    "ニューラルネットワークの起源となるアルゴリズム\n",
    "\n",
    "### 重み\n",
    "重みとは電流でいうところの「抵抗」\n",
    "重みが大きければ大きいほど大きな信号が流れる\n",
    "\n",
    "### バイアス\n",
    "重み（w1, w2）は入力信号への重要度をコントロールするパラメータ\n",
    "バイアスは発火のしやすさをコントロールするパラメータ\n",
    "(バイアスも重みに含まれる)\n",
    "\n",
    "## 2.ニューラルネットワーク\n",
    "\n",
    "### 活性化関数\n",
    "入力信号の総和(バイアスを含む)を出力信号に変換する関数のこと\n",
    "パーセプトロンでは活性化関数に「ステップ関数」を使用していた。"
   ]
  },
  {
   "cell_type": "markdown",
   "metadata": {},
   "source": [
    "### ステップ関数\n",
    "閾値を境にして出力が切り替わる関数のこと\n",
    "\n",
    "以下のコードの場合、xが0以上なら1、0以下なら0を出力する"
   ]
  },
  {
   "cell_type": "code",
   "execution_count": 8,
   "metadata": {},
   "outputs": [
    {
     "data": {
      "image/png": "[encoded data removed]",
      "text/plain": [
       "<Figure size 432x288 with 1 Axes>"
      ]
     },
     "metadata": {},
     "output_type": "display_data"
    }
   ],
   "source": [
    "import numpy as np\n",
    "import matplotlib.pylab as plt\n",
    "\n",
    "%matplotlib inline\n",
    "\n",
    "def step_func(x):\n",
    "    return np.array(x > 0, dtype=np.int)\n",
    "\n",
    "x = np.arange(-5.0, 5.0, 0.1)\n",
    "y = step_func(x)\n",
    "\n",
    "plt.plot(x,y)\n",
    "plt.ylim(-0.1, 1.2)\n",
    "plt.show()"
   ]
  },
  {
   "cell_type": "markdown",
   "metadata": {},
   "source": [
    "### シグモイド関数\n",
    "ニューラルネットワークにおいてよく利用される活性化関数\n",
    "\n",
    "#### *h(x) = 1.0 / (1.0 + math.exp(-x))*"
   ]
  },
  {
   "cell_type": "code",
   "execution_count": 9,
   "metadata": {},
   "outputs": [
    {
     "data": {
      "image/png": "[encoded data removed]",
      "text/plain": [
       "<Figure size 432x288 with 1 Axes>"
      ]
     },
     "metadata": {},
     "output_type": "display_data"
    }
   ],
   "source": [
    "import numpy as np\n",
    "import matplotlib.pylab as plt\n",
    "\n",
    "%matplotlib inline\n",
    "\n",
    "def sigmoid(x):\n",
    "    return 1 / (1 + np.exp(-x))\n",
    "\n",
    "x = np.arange(-5.0, 5.0, 0.1)\n",
    "y = sigmoid(x)\n",
    "\n",
    "plt.plot(x,y)\n",
    "plt.ylim(-0.1, 1.2)\n",
    "plt.show()"
   ]
  },
  {
   "cell_type": "markdown",
   "metadata": {},
   "source": [
    "### シグモイド関数とステップ関数の共通点\n",
    "\n",
    "- 非線形関数\n",
    "- シグモイド関数とステップ関数のグラフを比較すると、シグモイドの方が滑らか。\n",
    "- 出力信号は0から1\n",
    "- 入力信号が小さくなると出力信号は０に近づく\n",
    "- 入力信号が大きくなると出力信号は1に近く\n",
    "\n",
    "#### 活性化関数が線形関数ではダメな理由\n",
    "\n",
    "ニューラルネットワークにおいて層を深くする意味がなくなる\n",
    "\n",
    "例：\n",
    "h(x) = cxを活性化関数とすると \n",
    "y(x) = h(h(h(x))) が多層ネットワークとなるが、 \n",
    "y(x) = c ** 3x となり　1層のニュートラルネットワークになってしまう！"
   ]
  }
 ],
 "metadata": {
  "kernelspec": {
   "display_name": "Python 2",
   "language": "python",
   "name": "python2"
  },
  "language_info": {
   "codemirror_mode": {
    "name": "ipython",
    "version": 2
   },
   "file_extension": ".py",
   "mimetype": "text/x-python",
   "name": "python",
   "nbconvert_exporter": "python",
   "pygments_lexer": "ipython2",
   "version": "2.7.13"
  }
 },
 "nbformat": 4,
 "nbformat_minor": 2
}
