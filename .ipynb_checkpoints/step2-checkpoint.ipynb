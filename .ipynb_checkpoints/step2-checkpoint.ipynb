{
 "cells": [
  {
   "cell_type": "markdown",
   "metadata": {},
   "source": [
    "## 3.ニューラルネットワークの実装\n",
    "\n",
    "重み、バイアスを行列にして扱う  \n",
    "\n",
    "(例)　中間層が2層のネットワークを実装する"
   ]
  },
  {
   "cell_type": "code",
   "execution_count": 6,
   "metadata": {
    "scrolled": true
   },
   "outputs": [
    {
     "name": "stdout",
     "output_type": "stream",
     "text": [
      "[0.31682708 0.69627909]\n"
     ]
    }
   ],
   "source": [
    "import numpy as np\n",
    "\n",
    "def sigmoid(x):\n",
    "    return 1 / (1 + np.exp(-x))\n",
    "\n",
    "def init_network():\n",
    "    network = {}\n",
    "    network['W1'] = np.array([[0.1, 0.3, 0.5],  [0.2, 0.4, 0.6]])\n",
    "    network['b1'] = np.array([0.1, 0.2, 0.3])\n",
    "    network['W2'] = np.array([[0.1, 0.4],  [0.2, 0.5], [0.3, 0.6]])\n",
    "    network['b2'] = np.array([0.1, 0.2])\n",
    "    network['W3'] = np.array([[0.1, 0.3],  [0.2, 0.4]])\n",
    "    network['b3'] = np.array([0.1, 0.2])\n",
    "    \n",
    "    return network\n",
    "\n",
    "def forward(network, x):\n",
    "    W1, W2, W3 = network['W1'], network['W2'], network['W3']\n",
    "    b1, b2, b3 = network['b1'], network['b2'], network['b3']\n",
    "    \n",
    "    a1 = np.dot(x, W1) + b1\n",
    "    z1 = sigmoid(a1)\n",
    "    a2 = np.dot(z1, W2) + b2\n",
    "    z2 = sigmoid(a2)\n",
    "    a3 = np.dot(z2, W3) + b3\n",
    "    y = a3\n",
    "    \n",
    "    return y\n",
    "\n",
    "network = init_network()\n",
    "x = np.array([1.0, 0.5])\n",
    "y= forward(network, x)\n",
    "print y"
   ]
  },
  {
   "cell_type": "markdown",
   "metadata": {},
   "source": [
    "### 出力層の設計\n",
    "分類問題か回帰問題かで出力する関数を分ける必要がある\n",
    "\n",
    "#### 分類問題\n",
    "データがどのクラスに属するか (男性 or 女性 etc)  \n",
    "=> 恒等関数\n",
    "\n",
    "#### 回帰問題\n",
    "株価予想など  \n",
    "=> ソフトマックス関数\n"
   ]
  },
  {
   "cell_type": "markdown",
   "metadata": {},
   "source": [
    "## 4.ニューラルネットワークの学習\n",
    "\n",
    "### 訓練データとテストデータ\n",
    "機械学習の問題では、訓練データとテストデータ（教師データ）の二つのデータに分けて学習を行う  \n",
    "- モデルの汎化能力を正しく評価したいため  \n",
    "- 汎化能力とはまだ見ぬデータ（訓練データに含まれないデータ）  \n",
    "\n",
    "### 損失関数\n",
    "ニューラルネットワークの学習で用いられる指標  \n",
    "- ニューラルネットワークでは指標を手がかりに最適なパラメータを探索する  \n",
    "- 一般的に2乗和誤差や交差エントロピー誤差などが用いられる\n",
    "- 損失関数は性能の悪さを示す指標。この値が小さいほど正解に近い状態となる\n",
    "\n",
    "### 2乗和誤差"
   ]
  },
  {
   "cell_type": "code",
   "execution_count": null,
   "metadata": {},
   "outputs": [],
   "source": [
    "# yは出力結果、tは正解ラベル\n",
    "def mean_squared_error(y, t):\n",
    "    return 0.5 * np.sum((y - t)**2)"
   ]
  },
  {
   "cell_type": "markdown",
   "metadata": {},
   "source": [
    "### 交差エントロピー誤差\n",
    "正解ラベル（one-hot表現）が1に対応する出力の自然対数を計算する"
   ]
  },
  {
   "cell_type": "code",
   "execution_count": null,
   "metadata": {},
   "outputs": [],
   "source": [
    "# yは出力結果、tは正解ラベル\n",
    "def cross_entropy_error(y, t):\n",
    "    delta = 1e-7\n",
    "    return -np.sum(t * np.log(y + delta))"
   ]
  }
 ],
 "metadata": {
  "kernelspec": {
   "display_name": "Python 2",
   "language": "python",
   "name": "python2"
  },
  "language_info": {
   "codemirror_mode": {
    "name": "ipython",
    "version": 2
   },
   "file_extension": ".py",
   "mimetype": "text/x-python",
   "name": "python",
   "nbconvert_exporter": "python",
   "pygments_lexer": "ipython2",
   "version": "2.7.13"
  }
 },
 "nbformat": 4,
 "nbformat_minor": 2
}
