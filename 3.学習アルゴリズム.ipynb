{
 "cells": [
  {
   "cell_type": "markdown",
   "metadata": {},
   "source": [
    "### 学習アルゴリズムの実装\n",
    "\n",
    "前提:  \n",
    "ニューラルネットワークは、適応可能な重みとバイアスがあり、この重みとバイアスを訓練データに適応するよう調整することを「学習」と呼ぶ。学習は次の4つの手順で行う。  \n",
    "\n",
    "#### Step1 ミニバッチ\n",
    "訓練データの中からランダムに一部のデータを選ぶ。選ばれたデータをミニバッチといい、ミニバッチの損失関数の値を減らすことを目的とする。\n",
    "\n",
    "#### Step2 勾配の算出\n",
    "ミニバッチの損失関数を減らすために、各重みのパラメータの勾配を求める。  \n",
    "勾配は、損失関数の最小値の方向を示す。  \n",
    "\n",
    "#### Step3 パラメータの更新\n",
    "重みパラメータを勾配方向に微少量だけ更新する\n",
    "\n",
    "#### Step4 繰り返す\n",
    "Step1~3を繰り返す"
   ]
  },
  {
   "cell_type": "markdown",
   "metadata": {},
   "source": [
    "### テストデータで評価する\n",
    "ニューラルネットワークの学習では、訓練データ以外のデータを正しく認識できることがゴール。  \n",
    "汎用的な能力を評価するには、訓練データに含まれないデータを使って評価しなければならない。  \n",
    "\n",
    "#### エポック\n",
    "エポック(epoch)とは単位。  \n",
    "1エポック => 学習において訓練データをすべて使い切ったときの回数。  \n",
    "\n",
    "(例) 10000個のデータがあり、100個のミニバッチで100回繰り返す。（全データをみた）  \n",
    "この場合1エポックは100  "
   ]
  },
  {
   "cell_type": "markdown",
   "metadata": {},
   "source": [
    "### 誤差逆伝播法\n",
    "重みパラメータの勾配の計算を効率よく行う手法。  \n",
    "\n",
    "誤差逆伝播法における2つの方法\n",
    "- 数式\n",
    "- 計算グラフ\n",
    "\n",
    "### 計算グラフ\n",
    "\n",
    "#### 乗算レイヤ"
   ]
  },
  {
   "cell_type": "code",
   "execution_count": 4,
   "metadata": {},
   "outputs": [],
   "source": [
    "class MulLayer:\n",
    "    def __init__(self):\n",
    "        self.x = None\n",
    "        self.y = None\n",
    "\n",
    "    def forward(self, x, y):\n",
    "        self.x = x\n",
    "        self.y = y                \n",
    "        out = x * y\n",
    "\n",
    "        return out\n",
    "\n",
    "    def backward(self, dout):\n",
    "        dx = dout * self.y\n",
    "        dy = dout * self.x\n",
    "\n",
    "        return dx, dy"
   ]
  },
  {
   "cell_type": "markdown",
   "metadata": {},
   "source": [
    "#### 加算レイヤ"
   ]
  },
  {
   "cell_type": "code",
   "execution_count": null,
   "metadata": {},
   "outputs": [],
   "source": [
    "class AddLayer:\n",
    "    def __init__(self):\n",
    "        pass\n",
    "\n",
    "    def forward(self, x, y):\n",
    "        out = x + y\n",
    "\n",
    "        return out\n",
    "\n",
    "    def backward(self, dout):\n",
    "        dx = dout * 1\n",
    "        dy = dout * 1\n",
    "\n",
    "        return dx, dy"
   ]
  }
 ],
 "metadata": {
  "kernelspec": {
   "display_name": "Python 2",
   "language": "python",
   "name": "python2"
  },
  "language_info": {
   "codemirror_mode": {
    "name": "ipython",
    "version": 2
   },
   "file_extension": ".py",
   "mimetype": "text/x-python",
   "name": "python",
   "nbconvert_exporter": "python",
   "pygments_lexer": "ipython2",
   "version": "2.7.13"
  }
 },
 "nbformat": 4,
 "nbformat_minor": 2
}
